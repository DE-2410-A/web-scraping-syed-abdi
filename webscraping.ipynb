{
 "cells": [
  {
   "cell_type": "markdown",
   "metadata": {},
   "source": [
    "![Digital Futures](https://github.com/digital-futures-academy/DataScienceMasterResources/blob/main/Resources/datascience-notebook-header.png?raw=true)"
   ]
  },
  {
   "cell_type": "markdown",
   "metadata": {},
   "source": [
    "# Setting up the Project Environment\n",
    "\n",
    "Ultimately, the Python code written here will be extracted to scripts for execution in an automated pipeline.  To facilitate this, there is a need to set up a project environment that will allow for the execution of the code in a controlled and reproducible environment.\n",
    "\n",
    "In the initial stages of the activities, the packages needed are `requests` and `pytest`.  The `requests` package is used to make HTTP requests to the API, while `pytest` is used for testing the code we also need *BeautifulSoup* (package name `beautifulsoup4`.  In later activities, you may need to install additional packages.  To do this, add the packages to the `pip install` command below and re-run the cell.\n",
    "\n",
    "> **Remember:** The goal is to create a set of code cells that can be extracted to separate scripts for execution in an automated pipeline.  Therefore, the code should be kept in 3 distinct cells:\n",
    "> \n",
    "> - **Shell Commands**:  Used to set up the project environment\n",
    "> \n",
    "> - **Python Tests**: Used to test the Python production scripts both now and as part of the automated pipeline\n",
    "> \n",
    "> - **Python Production Code**: The Python code that will be extracted to a script to execute during the pipeline\n",
    "\n",
    "---"
   ]
  },
  {
   "cell_type": "markdown",
   "metadata": {},
   "source": [
    "# Environment Setup Scripts\n",
    "\n",
    "If you are running this notebook after cloning and have not set up your environment to run shell commands, you will need to run the following commands in your terminal to set up the environment.\n",
    "\n",
    "> **NOTE:**  These commands need to be executed in the terminal.  \n",
    ">\n",
    "> Open a terminal at the root of your project before executing these commands\n",
    "> \n",
    "> Until your environment is set up, Jupyter Notebooks will not be able to run **shell** scripts.\n",
    "\n",
    "```sh\n",
    "# Create a virtual environment (add the command below)\n",
    "python3 -m venv .venv # Note: This command could also be python -m venv .venv # python3 and python are a symlink to the python version installed on your system\n",
    "\n",
    "# Activate the virtual environment \n",
    "source .venv/bin/activate\n",
    "\n",
    "# Install required package to execute shell commands from Jupyter Notebook\n",
    "pip install ipykernel               ## OR \n",
    "pip install -r requirements.txt     ## IF there is already a requirements.txt file CONTAINING ipykenrnel in the project\n",
    "```\n"
   ]
  },
  {
   "cell_type": "code",
   "execution_count": 16,
   "metadata": {
    "vscode": {
     "languageId": "shellscript"
    }
   },
   "outputs": [
    {
     "name": "stdout",
     "output_type": "stream",
     "text": [
      "Requirement already satisfied: requests in c:\\users\\syed\\desktop\\coding\\web-scraping-syed-abdi\\.venv\\lib\\site-packages (2.32.3)\n",
      "Requirement already satisfied: pytest in c:\\users\\syed\\desktop\\coding\\web-scraping-syed-abdi\\.venv\\lib\\site-packages (8.3.3)\n",
      "Requirement already satisfied: beautifulsoup4 in c:\\users\\syed\\desktop\\coding\\web-scraping-syed-abdi\\.venv\\lib\\site-packages (4.12.3)\n",
      "Requirement already satisfied: charset-normalizer<4,>=2 in c:\\users\\syed\\desktop\\coding\\web-scraping-syed-abdi\\.venv\\lib\\site-packages (from requests) (3.4.0)\n",
      "Requirement already satisfied: idna<4,>=2.5 in c:\\users\\syed\\desktop\\coding\\web-scraping-syed-abdi\\.venv\\lib\\site-packages (from requests) (3.10)\n",
      "Requirement already satisfied: urllib3<3,>=1.21.1 in c:\\users\\syed\\desktop\\coding\\web-scraping-syed-abdi\\.venv\\lib\\site-packages (from requests) (2.2.3)\n",
      "Requirement already satisfied: certifi>=2017.4.17 in c:\\users\\syed\\desktop\\coding\\web-scraping-syed-abdi\\.venv\\lib\\site-packages (from requests) (2024.8.30)\n",
      "Requirement already satisfied: iniconfig in c:\\users\\syed\\desktop\\coding\\web-scraping-syed-abdi\\.venv\\lib\\site-packages (from pytest) (2.0.0)\n",
      "Requirement already satisfied: packaging in c:\\users\\syed\\desktop\\coding\\web-scraping-syed-abdi\\.venv\\lib\\site-packages (from pytest) (24.2)\n",
      "Requirement already satisfied: pluggy<2,>=1.5 in c:\\users\\syed\\desktop\\coding\\web-scraping-syed-abdi\\.venv\\lib\\site-packages (from pytest) (1.5.0)\n",
      "Requirement already satisfied: colorama in c:\\users\\syed\\desktop\\coding\\web-scraping-syed-abdi\\.venv\\lib\\site-packages (from pytest) (0.4.6)\n",
      "Requirement already satisfied: soupsieve>1.2 in c:\\users\\syed\\desktop\\coding\\web-scraping-syed-abdi\\.venv\\lib\\site-packages (from beautifulsoup4) (2.6)\n"
     ]
    },
    {
     "name": "stderr",
     "output_type": "stream",
     "text": [
      "\n",
      "[notice] A new release of pip is available: 24.2 -> 24.3.1\n",
      "[notice] To update, run: python.exe -m pip install --upgrade pip\n"
     ]
    }
   ],
   "source": [
    "# Install the necessary packages\n",
    "!pip install requests pytest beautifulsoup4\n",
    "\n",
    "# Create a requirements.txt file\n",
    "!pip freeze > requirements.txt"
   ]
  },
  {
   "cell_type": "markdown",
   "metadata": {},
   "source": [
    "> **Note:** \n",
    "> The `!` at the beginning of the lines is a special character in Jupyter Notebooks that allows you to run shell commands from the notebook.  \n",
    "> These will need to be removed from any commands that are to be exported to a `.sh` shell script file for the pipeline.\n",
    "\n",
    "---"
   ]
  },
  {
   "cell_type": "markdown",
   "metadata": {},
   "source": [
    "# Python Tests\n",
    "\n",
    "Develop any tests for functions in separate cells below.  The first has been provided for you as an example, add others as necessary."
   ]
  },
  {
   "cell_type": "code",
   "execution_count": 17,
   "metadata": {},
   "outputs": [
    {
     "name": "stdout",
     "output_type": "stream",
     "text": [
      "\u001b[32m.\u001b[0m\u001b[31mF\u001b[0m\u001b[31mF\u001b[0m\u001b[31m                                                                                          [100%]\u001b[0m\n",
      "============================================ FAILURES =============================================\n",
      "\u001b[31m\u001b[1m___________________________ test_request_to_scrape_unsuccessful_request ___________________________\u001b[0m\n",
      "\n",
      "    \u001b[0m\u001b[94mdef\u001b[39;49;00m \u001b[92mtest_request_to_scrape_unsuccessful_request\u001b[39;49;00m():\u001b[90m\u001b[39;49;00m\n",
      "        \u001b[90m# Arrange\u001b[39;49;00m\u001b[90m\u001b[39;49;00m\n",
      "        example_url = \u001b[33m\"\u001b[39;49;00m\u001b[33mhttps://www.example.com\u001b[39;49;00m\u001b[33m\"\u001b[39;49;00m\u001b[90m\u001b[39;49;00m\n",
      "        \u001b[94mwith\u001b[39;49;00m mock.patch(\u001b[33m'\u001b[39;49;00m\u001b[33mrequests.get\u001b[39;49;00m\u001b[33m'\u001b[39;49;00m) \u001b[94mas\u001b[39;49;00m mock_request:\u001b[90m\u001b[39;49;00m\n",
      "            mock_response = mock.Mock()\u001b[90m\u001b[39;49;00m\n",
      "            mock_response.status_code = \u001b[94m404\u001b[39;49;00m\u001b[90m\u001b[39;49;00m\n",
      "            mock_response.text = \u001b[33m\"\u001b[39;49;00m\u001b[33mNot Found\u001b[39;49;00m\u001b[33m\"\u001b[39;49;00m\u001b[90m\u001b[39;49;00m\n",
      "            mock_response.url = example_url\u001b[90m\u001b[39;49;00m\n",
      "    \u001b[90m\u001b[39;49;00m\n",
      "            mock_request.return_value = mock_response\u001b[90m\u001b[39;49;00m\n",
      "    \u001b[90m\u001b[39;49;00m\n",
      "            \u001b[90m# Act\u001b[39;49;00m\u001b[90m\u001b[39;49;00m\n",
      "            response = request_to_scrape(example_url)\u001b[90m\u001b[39;49;00m\n",
      "            \u001b[90m# Assert\u001b[39;49;00m\u001b[90m\u001b[39;49;00m\n",
      "            mock_request.assert_called_once_with(example_url)\u001b[90m\u001b[39;49;00m\n",
      ">           \u001b[94massert\u001b[39;49;00m response == \u001b[33mf\u001b[39;49;00m\u001b[33m\"\u001b[39;49;00m\u001b[33m{\u001b[39;49;00mERROR_REQUEST_FAILED\u001b[33m}\u001b[39;49;00m\u001b[33m: \u001b[39;49;00m\u001b[33m{\u001b[39;49;00mexample_url\u001b[33m}\u001b[39;49;00m\u001b[33m with status code 404\u001b[39;49;00m\u001b[33m\"\u001b[39;49;00m\u001b[90m\u001b[39;49;00m\n",
      "\u001b[1m\u001b[31mE           AssertionError: assert <Mock name='get()' id='1821040216448'> == 'Request failed for URL: https://www.example.com with status code 404'\u001b[0m\n",
      "\n",
      "\u001b[1m\u001b[31mC:\\Users\\Syed\\AppData\\Local\\Temp\\ipykernel_118864\\904436657.py\u001b[0m:39: AssertionError\n",
      "\u001b[31m\u001b[1m____________________________ test_request_to_scrape_exception_handling ____________________________\u001b[0m\n",
      "\n",
      "    \u001b[0m\u001b[94mdef\u001b[39;49;00m \u001b[92mtest_request_to_scrape_exception_handling\u001b[39;49;00m():\u001b[90m\u001b[39;49;00m\n",
      "        \u001b[90m# Arrange\u001b[39;49;00m\u001b[90m\u001b[39;49;00m\n",
      "        example_url = \u001b[33m\"\u001b[39;49;00m\u001b[33mhttps://www.example.com\u001b[39;49;00m\u001b[33m\"\u001b[39;49;00m\u001b[90m\u001b[39;49;00m\n",
      "        \u001b[94mwith\u001b[39;49;00m mock.patch(\u001b[33m'\u001b[39;49;00m\u001b[33mrequests.get\u001b[39;49;00m\u001b[33m'\u001b[39;49;00m, side_effect=\u001b[96mException\u001b[39;49;00m(\u001b[33m\"\u001b[39;49;00m\u001b[33mNetwork error\u001b[39;49;00m\u001b[33m\"\u001b[39;49;00m)) \u001b[94mas\u001b[39;49;00m mock_request:\u001b[90m\u001b[39;49;00m\n",
      "            \u001b[90m# Act\u001b[39;49;00m\u001b[90m\u001b[39;49;00m\n",
      "            response = request_to_scrape(example_url)\u001b[90m\u001b[39;49;00m\n",
      "            \u001b[90m# Assert\u001b[39;49;00m\u001b[90m\u001b[39;49;00m\n",
      "            mock_request.assert_called_once_with(example_url)\u001b[90m\u001b[39;49;00m\n",
      ">           \u001b[94massert\u001b[39;49;00m response == \u001b[33mf\u001b[39;49;00m\u001b[33m\"\u001b[39;49;00m\u001b[33m{\u001b[39;49;00mERROR_UNEXPECTED\u001b[33m}\u001b[39;49;00m\u001b[33m: \u001b[39;49;00m\u001b[33m{\u001b[39;49;00mexample_url\u001b[33m}\u001b[39;49;00m\u001b[33m with error Network error\u001b[39;49;00m\u001b[33m\"\u001b[39;49;00m\u001b[90m\u001b[39;49;00m\n",
      "\u001b[1m\u001b[31mE           AssertionError: assert 'Error: Network error' == 'Unexpected e...Network error'\u001b[0m\n",
      "\u001b[1m\u001b[31mE             \u001b[0m\n",
      "\u001b[1m\u001b[31mE             - Unexpected error for URL: https://www.example.com with error Network error\u001b[0m\n",
      "\u001b[1m\u001b[31mE             + Error: Network error\u001b[0m\n",
      "\n",
      "\u001b[1m\u001b[31mC:\\Users\\Syed\\AppData\\Local\\Temp\\ipykernel_118864\\904436657.py\u001b[0m:49: AssertionError\n",
      "\u001b[36m\u001b[1m===================================== short test summary info =====================================\u001b[0m\n",
      "\u001b[31mFAILED\u001b[0m t_6108f9060a304c18861c3b7021d5a5c5.py::\u001b[1mtest_request_to_scrape_unsuccessful_request\u001b[0m - AssertionError: assert <Mock name='get()' id='1821040216448'> == 'Request failed for URL: https...\n",
      "\u001b[31mFAILED\u001b[0m t_6108f9060a304c18861c3b7021d5a5c5.py::\u001b[1mtest_request_to_scrape_exception_handling\u001b[0m - AssertionError: assert 'Error: Network error' == 'Unexpected e...Network error'\n",
      "\u001b[31m\u001b[31m\u001b[1m2 failed\u001b[0m, \u001b[32m1 passed\u001b[0m\u001b[31m in 0.01s\u001b[0m\u001b[0m\n"
     ]
    },
    {
     "data": {
      "text/plain": [
       "<ExitCode.TESTS_FAILED: 1>"
      ]
     },
     "execution_count": 17,
     "metadata": {},
     "output_type": "execute_result"
    }
   ],
   "source": [
    "# Test request_to_scrape\n",
    "from unittest import mock\n",
    "import ipytest\n",
    "\n",
    "def test_request_to_scrape():\n",
    "    # Arrange\n",
    "    example_url = \"https://www.example.com\"\n",
    "    with mock.patch('requests.get') as mock_request:\n",
    "        mock_response = mock.Mock()\n",
    "        mock_response.status_code = 200\n",
    "        mock_response.text = \"This is the text of the page\"\n",
    "        mock_response.url = example_url\n",
    "\n",
    "        mock_request.return_value = mock_response\n",
    "\n",
    "        # Act\n",
    "        response = request_to_scrape(example_url)\n",
    "        # Assert\n",
    "        mock_request.assert_called_once_with(example_url)\n",
    "        assert response.status_code == 200\n",
    "        assert response.text == \"This is the text of the page\"\n",
    "        assert response.url == example_url\n",
    "\n",
    "def test_request_to_scrape_unsuccessful_request():\n",
    "    # Arrange\n",
    "    example_url = \"https://www.example.com\"\n",
    "    with mock.patch('requests.get') as mock_request:\n",
    "        mock_response = mock.Mock()\n",
    "        mock_response.status_code = 404\n",
    "        mock_response.text = \"Not Found\"\n",
    "        mock_response.url = example_url\n",
    "\n",
    "        mock_request.return_value = mock_response\n",
    "\n",
    "        # Act\n",
    "        response = request_to_scrape(example_url)\n",
    "        # Assert\n",
    "        mock_request.assert_called_once_with(example_url)\n",
    "        assert response == f\"{ERROR_REQUEST_FAILED}: {example_url} with status code 404\"\n",
    "\n",
    "def test_request_to_scrape_exception_handling():\n",
    "    # Arrange\n",
    "    example_url = \"https://www.example.com\"\n",
    "    with mock.patch('requests.get', side_effect=Exception(\"Network error\")) as mock_request:\n",
    "        # Act\n",
    "        response = request_to_scrape(example_url)\n",
    "        # Assert\n",
    "        mock_request.assert_called_once_with(example_url)\n",
    "        assert response == f\"{ERROR_UNEXPECTED}: {example_url} with error Network error\"\n",
    "\n",
    "ipytest.run()"
   ]
  },
  {
   "cell_type": "markdown",
   "metadata": {},
   "source": [
    "### Run the tests\n",
    "\n",
    "Run the cell containing the `ipytest.run()` command to execute the tests.  The tests should all fail until you have written the production code.\n",
    "\n",
    "Don't forget to run the installation and initialisation cell too on the first time you run the tests!"
   ]
  },
  {
   "cell_type": "markdown",
   "metadata": {},
   "source": [
    "\n",
    "---\n",
    "\n",
    "# Python Production Code\n",
    "\n",
    "\n",
    "Develop any functions for use as production code in separate cells below. The first has been provided as an example under the Production Constants, add others as necessary."
   ]
  },
  {
   "cell_type": "markdown",
   "metadata": {},
   "source": [
    "### PRODUCTION CONSTANTS"
   ]
  },
  {
   "cell_type": "code",
   "execution_count": 18,
   "metadata": {},
   "outputs": [],
   "source": [
    "# PRODUCTION CONSTANTS\n",
    "\n",
    "# Constants for status messages\n",
    "STATUS_SUCCESS = \"success\"\n",
    "STATUS_ERROR = \"error\"\n",
    "ERROR_NOT_HTML = \"The response is not HTML\"\n",
    "ERROR_REQUEST_FAILED = \"Request failed for URL\"\n",
    "ERROR_UNEXPECTED = \"Unexpected error for URL\"\n",
    "\n",
    "# HTML Parser\n",
    "HTML_PARSER = \"html.parser\""
   ]
  },
  {
   "cell_type": "markdown",
   "metadata": {},
   "source": [
    "### `request_to_scrape` Production Code"
   ]
  },
  {
   "cell_type": "code",
   "execution_count": 19,
   "metadata": {},
   "outputs": [],
   "source": [
    "# request_to_scrape Production Code\n"
   ]
  },
  {
   "cell_type": "markdown",
   "metadata": {},
   "source": [
    "---\n",
    "\n",
    "# Python Execution Code\n",
    "\n",
    "Develop any code to call the developed functions below.  Add additional cells so you don't need to re-run all of the code when you develop further scripts."
   ]
  },
  {
   "cell_type": "code",
   "execution_count": 20,
   "metadata": {},
   "outputs": [],
   "source": [
    "# Python Execution Code\n",
    "\n",
    "import requests\n",
    "\n",
    "def request_to_scrape(url):\n",
    "    try:\n",
    "        response = requests.get(url)\n",
    "        return response\n",
    "        #return response.status_code\n",
    "    except Exception as e:\n",
    "        return f\"Error: {e}\"\n",
    "    "
   ]
  },
  {
   "cell_type": "markdown",
   "metadata": {},
   "source": [
    "---"
   ]
  },
  {
   "cell_type": "markdown",
   "metadata": {},
   "source": [
    "# Jupyter Notebook Test and Linting Set Up"
   ]
  },
  {
   "cell_type": "markdown",
   "metadata": {},
   "source": [
    "To run `pytest` scripts in a Jupyter Notebook cell, we need to install the `ipytest` package.  This package is NOT required for a pipeline and therefore it can be removed from the `requirements.txt` file before adding the production code to the pipeline.\n",
    "\n",
    "To run linting, we need to install 2 packages `nbqa` and `flake8`.  We will make sure that `flake8` is included in the `requirements.txt` file when constructing the pipeline so that we can lint as part of the pipeline tests.\n",
    "\n",
    "Run the following cell to install the `ipytest`, `nbqa` and `flake8` packages and a coverage package to help determine if all of your production code is executed during the tests!\n",
    "\n",
    "This cell only needs to be run once (or after restarting the notebook kernel) to set up the environment for testing and linting.\n"
   ]
  },
  {
   "cell_type": "code",
   "execution_count": 21,
   "metadata": {
    "vscode": {
     "languageId": "shellscript"
    }
   },
   "outputs": [
    {
     "name": "stdout",
     "output_type": "stream",
     "text": [
      "Requirement already satisfied: ipytest in c:\\users\\syed\\desktop\\coding\\web-scraping-syed-abdi\\.venv\\lib\\site-packages (0.14.2)\n",
      "Requirement already satisfied: nbqa in c:\\users\\syed\\desktop\\coding\\web-scraping-syed-abdi\\.venv\\lib\\site-packages (1.9.1)\n",
      "Requirement already satisfied: flake8 in c:\\users\\syed\\desktop\\coding\\web-scraping-syed-abdi\\.venv\\lib\\site-packages (7.1.1)\n",
      "Requirement already satisfied: ipython in c:\\users\\syed\\desktop\\coding\\web-scraping-syed-abdi\\.venv\\lib\\site-packages (from ipytest) (8.29.0)\n",
      "Requirement already satisfied: packaging in c:\\users\\syed\\desktop\\coding\\web-scraping-syed-abdi\\.venv\\lib\\site-packages (from ipytest) (24.2)\n",
      "Requirement already satisfied: pytest>=5.4 in c:\\users\\syed\\desktop\\coding\\web-scraping-syed-abdi\\.venv\\lib\\site-packages (from ipytest) (8.3.3)\n",
      "Requirement already satisfied: autopep8>=1.5 in c:\\users\\syed\\desktop\\coding\\web-scraping-syed-abdi\\.venv\\lib\\site-packages (from nbqa) (2.3.1)\n",
      "Requirement already satisfied: tokenize-rt>=3.2.0 in c:\\users\\syed\\desktop\\coding\\web-scraping-syed-abdi\\.venv\\lib\\site-packages (from nbqa) (6.1.0)\n",
      "Requirement already satisfied: tomli in c:\\users\\syed\\desktop\\coding\\web-scraping-syed-abdi\\.venv\\lib\\site-packages (from nbqa) (2.1.0)\n",
      "Requirement already satisfied: mccabe<0.8.0,>=0.7.0 in c:\\users\\syed\\desktop\\coding\\web-scraping-syed-abdi\\.venv\\lib\\site-packages (from flake8) (0.7.0)\n",
      "Requirement already satisfied: pycodestyle<2.13.0,>=2.12.0 in c:\\users\\syed\\desktop\\coding\\web-scraping-syed-abdi\\.venv\\lib\\site-packages (from flake8) (2.12.1)\n",
      "Requirement already satisfied: pyflakes<3.3.0,>=3.2.0 in c:\\users\\syed\\desktop\\coding\\web-scraping-syed-abdi\\.venv\\lib\\site-packages (from flake8) (3.2.0)\n",
      "Requirement already satisfied: decorator in c:\\users\\syed\\desktop\\coding\\web-scraping-syed-abdi\\.venv\\lib\\site-packages (from ipython->ipytest) (5.1.1)\n",
      "Requirement already satisfied: jedi>=0.16 in c:\\users\\syed\\desktop\\coding\\web-scraping-syed-abdi\\.venv\\lib\\site-packages (from ipython->ipytest) (0.19.2)\n",
      "Requirement already satisfied: matplotlib-inline in c:\\users\\syed\\desktop\\coding\\web-scraping-syed-abdi\\.venv\\lib\\site-packages (from ipython->ipytest) (0.1.7)\n",
      "Requirement already satisfied: prompt-toolkit<3.1.0,>=3.0.41 in c:\\users\\syed\\desktop\\coding\\web-scraping-syed-abdi\\.venv\\lib\\site-packages (from ipython->ipytest) (3.0.48)\n",
      "Requirement already satisfied: pygments>=2.4.0 in c:\\users\\syed\\desktop\\coding\\web-scraping-syed-abdi\\.venv\\lib\\site-packages (from ipython->ipytest) (2.18.0)\n",
      "Requirement already satisfied: stack-data in c:\\users\\syed\\desktop\\coding\\web-scraping-syed-abdi\\.venv\\lib\\site-packages (from ipython->ipytest) (0.6.3)\n",
      "Requirement already satisfied: traitlets>=5.13.0 in c:\\users\\syed\\desktop\\coding\\web-scraping-syed-abdi\\.venv\\lib\\site-packages (from ipython->ipytest) (5.14.3)\n",
      "Requirement already satisfied: colorama in c:\\users\\syed\\desktop\\coding\\web-scraping-syed-abdi\\.venv\\lib\\site-packages (from ipython->ipytest) (0.4.6)\n",
      "Requirement already satisfied: iniconfig in c:\\users\\syed\\desktop\\coding\\web-scraping-syed-abdi\\.venv\\lib\\site-packages (from pytest>=5.4->ipytest) (2.0.0)\n",
      "Requirement already satisfied: pluggy<2,>=1.5 in c:\\users\\syed\\desktop\\coding\\web-scraping-syed-abdi\\.venv\\lib\\site-packages (from pytest>=5.4->ipytest) (1.5.0)\n",
      "Requirement already satisfied: parso<0.9.0,>=0.8.4 in c:\\users\\syed\\desktop\\coding\\web-scraping-syed-abdi\\.venv\\lib\\site-packages (from jedi>=0.16->ipython->ipytest) (0.8.4)\n",
      "Requirement already satisfied: wcwidth in c:\\users\\syed\\desktop\\coding\\web-scraping-syed-abdi\\.venv\\lib\\site-packages (from prompt-toolkit<3.1.0,>=3.0.41->ipython->ipytest) (0.2.13)\n",
      "Requirement already satisfied: executing>=1.2.0 in c:\\users\\syed\\desktop\\coding\\web-scraping-syed-abdi\\.venv\\lib\\site-packages (from stack-data->ipython->ipytest) (2.1.0)\n",
      "Requirement already satisfied: asttokens>=2.1.0 in c:\\users\\syed\\desktop\\coding\\web-scraping-syed-abdi\\.venv\\lib\\site-packages (from stack-data->ipython->ipytest) (2.4.1)\n",
      "Requirement already satisfied: pure-eval in c:\\users\\syed\\desktop\\coding\\web-scraping-syed-abdi\\.venv\\lib\\site-packages (from stack-data->ipython->ipytest) (0.2.3)\n",
      "Requirement already satisfied: six>=1.12.0 in c:\\users\\syed\\desktop\\coding\\web-scraping-syed-abdi\\.venv\\lib\\site-packages (from asttokens>=2.1.0->stack-data->ipython->ipytest) (1.16.0)\n"
     ]
    },
    {
     "name": "stderr",
     "output_type": "stream",
     "text": [
      "\n",
      "[notice] A new release of pip is available: 24.2 -> 24.3.1\n",
      "[notice] To update, run: python.exe -m pip install --upgrade pip\n"
     ]
    }
   ],
   "source": [
    "# Install the `ipytest`, `nbqa` and `flake8` packages\n",
    "!pip install ipytest nbqa flake8"
   ]
  },
  {
   "cell_type": "markdown",
   "metadata": {},
   "source": [
    "### Set up `ipytest` to execute `pytest` scripts in Jupyter Notebook"
   ]
  },
  {
   "cell_type": "code",
   "execution_count": 22,
   "metadata": {},
   "outputs": [],
   "source": [
    "# Configure ipytest for Jupyter Notebook\n",
    "\n",
    "import ipytest\n",
    "ipytest.autoconfig(rewrite_asserts=True, magics=True)"
   ]
  },
  {
   "cell_type": "markdown",
   "metadata": {},
   "source": [
    "### Create a *config* file for `flake8`\n",
    "\n",
    "Run this script to create a file in your project root"
   ]
  },
  {
   "cell_type": "code",
   "execution_count": 23,
   "metadata": {
    "vscode": {
     "languageId": "shellscript"
    }
   },
   "outputs": [],
   "source": [
    "# Create a config file and ignore some flake8 rules\n",
    "!echo \"[flake8]\" > .flake8\n",
    "!echo \"ignore = E402, W291, F811\" >> .flake8"
   ]
  },
  {
   "cell_type": "markdown",
   "metadata": {},
   "source": [
    "# Execute the tests and linting in the Jupyter Notebook\n",
    "\n",
    "Run the following cell ***EVERY TIME*** you want to run the tests and linting that you have written in the *Python Tests* cell above.\n",
    "\n",
    ">**Note:**\n",
    ">\n",
    "> This entire section does not need to be part of any pipeline scripts.  \n",
    "> It is only required for the Jupyter Notebook environment during development.\n"
   ]
  },
  {
   "cell_type": "markdown",
   "metadata": {},
   "source": [
    "## Run the tests"
   ]
  },
  {
   "cell_type": "code",
   "execution_count": 24,
   "metadata": {},
   "outputs": [
    {
     "name": "stdout",
     "output_type": "stream",
     "text": [
      "\u001b[1m======================================= test session starts =======================================\u001b[0m\n",
      "platform win32 -- Python 3.13.0, pytest-8.3.3, pluggy-1.5.0 -- c:\\Users\\Syed\\Desktop\\coding\\web-scraping-syed-abdi\\.venv\\Scripts\\python.exe\n",
      "cachedir: .pytest_cache\n",
      "rootdir: c:\\Users\\Syed\\Desktop\\coding\\web-scraping-syed-abdi\n",
      "plugins: anyio-4.6.2.post1\n",
      "\u001b[1mcollecting ... \u001b[0mcollected 3 items\n",
      "\n",
      "t_6108f9060a304c18861c3b7021d5a5c5.py::test_request_to_scrape \u001b[32mPASSED\u001b[0m\n",
      "t_6108f9060a304c18861c3b7021d5a5c5.py::test_request_to_scrape_unsuccessful_request \u001b[31mFAILED\u001b[0m\n",
      "t_6108f9060a304c18861c3b7021d5a5c5.py::test_request_to_scrape_exception_handling \u001b[31mFAILED\u001b[0m\n",
      "\n",
      "============================================ FAILURES =============================================\n",
      "\u001b[31m\u001b[1m___________________________ test_request_to_scrape_unsuccessful_request ___________________________\u001b[0m\n",
      "\n",
      "    \u001b[0m\u001b[94mdef\u001b[39;49;00m \u001b[92mtest_request_to_scrape_unsuccessful_request\u001b[39;49;00m():\u001b[90m\u001b[39;49;00m\n",
      "        \u001b[90m# Arrange\u001b[39;49;00m\u001b[90m\u001b[39;49;00m\n",
      "        example_url = \u001b[33m\"\u001b[39;49;00m\u001b[33mhttps://www.example.com\u001b[39;49;00m\u001b[33m\"\u001b[39;49;00m\u001b[90m\u001b[39;49;00m\n",
      "        \u001b[94mwith\u001b[39;49;00m mock.patch(\u001b[33m'\u001b[39;49;00m\u001b[33mrequests.get\u001b[39;49;00m\u001b[33m'\u001b[39;49;00m) \u001b[94mas\u001b[39;49;00m mock_request:\u001b[90m\u001b[39;49;00m\n",
      "            mock_response = mock.Mock()\u001b[90m\u001b[39;49;00m\n",
      "            mock_response.status_code = \u001b[94m404\u001b[39;49;00m\u001b[90m\u001b[39;49;00m\n",
      "            mock_response.text = \u001b[33m\"\u001b[39;49;00m\u001b[33mNot Found\u001b[39;49;00m\u001b[33m\"\u001b[39;49;00m\u001b[90m\u001b[39;49;00m\n",
      "            mock_response.url = example_url\u001b[90m\u001b[39;49;00m\n",
      "    \u001b[90m\u001b[39;49;00m\n",
      "            mock_request.return_value = mock_response\u001b[90m\u001b[39;49;00m\n",
      "    \u001b[90m\u001b[39;49;00m\n",
      "            \u001b[90m# Act\u001b[39;49;00m\u001b[90m\u001b[39;49;00m\n",
      "            response = request_to_scrape(example_url)\u001b[90m\u001b[39;49;00m\n",
      "            \u001b[90m# Assert\u001b[39;49;00m\u001b[90m\u001b[39;49;00m\n",
      "            mock_request.assert_called_once_with(example_url)\u001b[90m\u001b[39;49;00m\n",
      ">           \u001b[94massert\u001b[39;49;00m response == \u001b[33mf\u001b[39;49;00m\u001b[33m\"\u001b[39;49;00m\u001b[33m{\u001b[39;49;00mERROR_REQUEST_FAILED\u001b[33m}\u001b[39;49;00m\u001b[33m: \u001b[39;49;00m\u001b[33m{\u001b[39;49;00mexample_url\u001b[33m}\u001b[39;49;00m\u001b[33m with status code 404\u001b[39;49;00m\u001b[33m\"\u001b[39;49;00m\u001b[90m\u001b[39;49;00m\n",
      "\u001b[1m\u001b[31mE           AssertionError: assert <Mock name='get()' id='1821040216448'> == 'Request failed for URL: https://www.example.com with status code 404'\u001b[0m\n",
      "\n",
      "\u001b[1m\u001b[31mC:\\Users\\Syed\\AppData\\Local\\Temp\\ipykernel_118864\\904436657.py\u001b[0m:39: AssertionError\n",
      "\u001b[31m\u001b[1m____________________________ test_request_to_scrape_exception_handling ____________________________\u001b[0m\n",
      "\n",
      "    \u001b[0m\u001b[94mdef\u001b[39;49;00m \u001b[92mtest_request_to_scrape_exception_handling\u001b[39;49;00m():\u001b[90m\u001b[39;49;00m\n",
      "        \u001b[90m# Arrange\u001b[39;49;00m\u001b[90m\u001b[39;49;00m\n",
      "        example_url = \u001b[33m\"\u001b[39;49;00m\u001b[33mhttps://www.example.com\u001b[39;49;00m\u001b[33m\"\u001b[39;49;00m\u001b[90m\u001b[39;49;00m\n",
      "        \u001b[94mwith\u001b[39;49;00m mock.patch(\u001b[33m'\u001b[39;49;00m\u001b[33mrequests.get\u001b[39;49;00m\u001b[33m'\u001b[39;49;00m, side_effect=\u001b[96mException\u001b[39;49;00m(\u001b[33m\"\u001b[39;49;00m\u001b[33mNetwork error\u001b[39;49;00m\u001b[33m\"\u001b[39;49;00m)) \u001b[94mas\u001b[39;49;00m mock_request:\u001b[90m\u001b[39;49;00m\n",
      "            \u001b[90m# Act\u001b[39;49;00m\u001b[90m\u001b[39;49;00m\n",
      "            response = request_to_scrape(example_url)\u001b[90m\u001b[39;49;00m\n",
      "            \u001b[90m# Assert\u001b[39;49;00m\u001b[90m\u001b[39;49;00m\n",
      "            mock_request.assert_called_once_with(example_url)\u001b[90m\u001b[39;49;00m\n",
      ">           \u001b[94massert\u001b[39;49;00m response == \u001b[33mf\u001b[39;49;00m\u001b[33m\"\u001b[39;49;00m\u001b[33m{\u001b[39;49;00mERROR_UNEXPECTED\u001b[33m}\u001b[39;49;00m\u001b[33m: \u001b[39;49;00m\u001b[33m{\u001b[39;49;00mexample_url\u001b[33m}\u001b[39;49;00m\u001b[33m with error Network error\u001b[39;49;00m\u001b[33m\"\u001b[39;49;00m\u001b[90m\u001b[39;49;00m\n",
      "\u001b[1m\u001b[31mE           AssertionError: assert 'Error: Network error' == 'Unexpected e...Network error'\u001b[0m\n",
      "\u001b[1m\u001b[31mE             \u001b[0m\n",
      "\u001b[1m\u001b[31mE             - Unexpected error for URL: https://www.example.com with error Network error\u001b[0m\n",
      "\u001b[1m\u001b[31mE             + Error: Network error\u001b[0m\n",
      "\n",
      "\u001b[1m\u001b[31mC:\\Users\\Syed\\AppData\\Local\\Temp\\ipykernel_118864\\904436657.py\u001b[0m:49: AssertionError\n",
      "\u001b[36m\u001b[1m===================================== short test summary info =====================================\u001b[0m\n",
      "\u001b[31mFAILED\u001b[0m t_6108f9060a304c18861c3b7021d5a5c5.py::\u001b[1mtest_request_to_scrape_unsuccessful_request\u001b[0m - AssertionError: assert <Mock name='get()' id='1821040216448'> == 'Request failed for URL: https...\n",
      "\u001b[31mFAILED\u001b[0m t_6108f9060a304c18861c3b7021d5a5c5.py::\u001b[1mtest_request_to_scrape_exception_handling\u001b[0m - AssertionError: assert 'Error: Network error' == 'Unexpected e...Network error'\n",
      "\u001b[31m=================================== \u001b[31m\u001b[1m2 failed\u001b[0m, \u001b[32m1 passed\u001b[0m\u001b[31m in 0.01s\u001b[0m\u001b[31m ===================================\u001b[0m\n"
     ]
    },
    {
     "data": {
      "text/plain": [
       "<ExitCode.TESTS_FAILED: 1>"
      ]
     },
     "execution_count": 24,
     "metadata": {},
     "output_type": "execute_result"
    }
   ],
   "source": [
    "# Run the tests\n",
    "ipytest.run(\"-vv\", \"-ss\")"
   ]
  },
  {
   "cell_type": "markdown",
   "metadata": {},
   "source": [
    "## Run the linter\n",
    "\n",
    "Run this script each time you want to lint your code"
   ]
  },
  {
   "cell_type": "code",
   "execution_count": 25,
   "metadata": {
    "vscode": {
     "languageId": "shellscript"
    }
   },
   "outputs": [
    {
     "name": "stdout",
     "output_type": "stream",
     "text": [
      "webscraping.ipynb:cell_2:2: [E402] module level import not at top of file\n",
      "from unittest import mock\n",
      "^\n",
      "webscraping.ipynb:cell_2:3: [E402] module level import not at top of file\n",
      "import ipytest\n",
      "^\n",
      "webscraping.ipynb:cell_2:41: [E501] line too long (88 > 79 characters)\n",
      "        assert response == f\"{ERROR_REQUEST_FAILED}: {example_url} with status code 404\"\n",
      "                                                                               ^\n",
      "webscraping.ipynb:cell_2:47: [E501] line too long (92 > 79 characters)\n",
      "    with mock.patch('requests.get', side_effect=Exception(\"Network error\")) as mock_request:\n",
      "                                                                               ^\n",
      "webscraping.ipynb:cell_2:52: [E501] line too long (88 > 79 characters)\n",
      "        assert response == f\"{ERROR_UNEXPECTED}: {example_url} with error Network error\"\n",
      "                                                                               ^\n",
      "webscraping.ipynb:cell_5:3: [E402] module level import not at top of file\n",
      "import requests\n",
      "^\n",
      "webscraping.ipynb:cell_5:10: [E265] block comment should start with '# '\n",
      "        #return response.status_code\n",
      "        ^\n",
      "webscraping.ipynb:cell_5:13: [W293] blank line contains whitespace\n",
      "    \n",
      "^\n",
      "webscraping.ipynb:cell_7:3: [E402] module level import not at top of file\n",
      "import ipytest\n",
      "^\n"
     ]
    }
   ],
   "source": [
    "# Run the linter\n",
    "!nbqa flake8 --show-source --format=pylint webscraping.ipynb"
   ]
  },
  {
   "cell_type": "markdown",
   "metadata": {},
   "source": [
    "\n",
    "---\n"
   ]
  }
 ],
 "metadata": {
  "kernelspec": {
   "display_name": ".venv",
   "language": "python",
   "name": "python3"
  },
  "language_info": {
   "codemirror_mode": {
    "name": "ipython",
    "version": 3
   },
   "file_extension": ".py",
   "mimetype": "text/x-python",
   "name": "python",
   "nbconvert_exporter": "python",
   "pygments_lexer": "ipython3",
   "version": "3.13.0"
  }
 },
 "nbformat": 4,
 "nbformat_minor": 2
}
